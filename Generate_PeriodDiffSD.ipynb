{
 "cells": [
  {
   "cell_type": "markdown",
   "metadata": {},
   "source": [
    "# Generate Period difference and SD"
   ]
  },
  {
   "cell_type": "markdown",
   "metadata": {},
   "source": [
    "Generating files for difference between early and late period in SSTA, then standard deviation in SSTA between early, late, full periods"
   ]
  },
  {
   "cell_type": "code",
   "execution_count": 1,
   "metadata": {},
   "outputs": [],
   "source": [
    "%reset -f"
   ]
  },
  {
   "cell_type": "code",
   "execution_count": 2,
   "metadata": {},
   "outputs": [],
   "source": [
    "%load_ext autoreload"
   ]
  },
  {
   "cell_type": "code",
   "execution_count": 3,
   "metadata": {},
   "outputs": [],
   "source": [
    "%reload_ext autoreload\n",
    "%autoreload 2"
   ]
  },
  {
   "cell_type": "code",
   "execution_count": 4,
   "metadata": {},
   "outputs": [],
   "source": [
    "import sys\n",
    "\n",
    "sys.path.append('/home/hbyrne/Research/Tools')"
   ]
  },
  {
   "cell_type": "markdown",
   "metadata": {},
   "source": [
    "#### Libraries"
   ]
  },
  {
   "cell_type": "code",
   "execution_count": 15,
   "metadata": {},
   "outputs": [],
   "source": [
    "import numpy as np\n",
    "import pandas as pd\n",
    "import xarray as xr\n",
    "import os\n",
    "\n",
    "from Utils_Functions_HB import SelectModelInputs\n",
    "from GradientProjectFunctions import ClassifyHistModelsLite, MakeChangeDir, RemoveClimatology\n",
    "from GradTrendClasses import ModelInput"
   ]
  },
  {
   "cell_type": "markdown",
   "metadata": {},
   "source": [
    "#### Directories"
   ]
  },
  {
   "cell_type": "code",
   "execution_count": 7,
   "metadata": {},
   "outputs": [],
   "source": [
    "# inputs\n",
    "dirSummaries = '/home/hbyrne/Research/Gradient_project/gradient_project/Outputs/Summaries'\n",
    "\n",
    "# outputs\n",
    "dirSSTPeriods = '/home/hbyrne/Research/Gradient_project/gradient_project/Outputs/MeanSST_Periods'\n",
    "dirSDPeriods = '/home/hbyrne/Research/Gradient_project/gradient_project/Outputs/SD_Periods'"
   ]
  },
  {
   "cell_type": "markdown",
   "metadata": {},
   "source": [
    "### Calculation"
   ]
  },
  {
   "cell_type": "code",
   "execution_count": 10,
   "metadata": {},
   "outputs": [],
   "source": [
    "os.chdir(dirSummaries)\n",
    "fileName = 'ModelSummary_Integral.csv'\n",
    "\n",
    "modelSummary = pd.read_csv(fileName, index_col=0)"
   ]
  },
  {
   "cell_type": "code",
   "execution_count": 11,
   "metadata": {},
   "outputs": [],
   "source": [
    "# defining the region\n",
    "lonmin, lonmax = 140, 280\n",
    "latmin, latmax = -10, 10"
   ]
  },
  {
   "cell_type": "code",
   "execution_count": 12,
   "metadata": {},
   "outputs": [],
   "source": [
    "# sort the models by range\n",
    "modelsSorted = modelSummary.sort_values('Weighted Range').index\n",
    "\n",
    "# choosing the two intervals\n",
    "periodStart = ('1850', '1870')\n",
    "periodEnd = ('1990', '2010')\n",
    "\n",
    "# choosing the number of runs\n",
    "N = 10"
   ]
  },
  {
   "cell_type": "code",
   "execution_count": null,
   "metadata": {},
   "outputs": [],
   "source": [
    "# initialise the dictionaries\n",
    "\n",
    "# difference in SST\n",
    "dictPeriod1 = {}\n",
    "dictPeriod2 = {}\n",
    "dictDiff = {}\n",
    "\n",
    "# std for different periods\n",
    "dictSD1 = {}\n",
    "dictSD2 = {}\n",
    "dictSDFull = {}\n",
    "\n",
    "for model in modelsSorted:\n",
    "    \n",
    "    # first selecting the runs\n",
    "    # inputting the historical models based on this\n",
    "    modelListHist, modelListScenario = SelectModelInputs(models = [model])\n",
    "\n",
    "    # checking that they span the full period\n",
    "    histModels = ClassifyHistModelsLite(modelListHist)\n",
    "\n",
    "    i = 0\n",
    "    for classification, item in histModels.items():\n",
    "\n",
    "        if classification == 'Full':\n",
    "            for modelName in item:\n",
    "                if i < N:\n",
    "\n",
    "                    # opening the dataset\n",
    "                    da = ModelInput(modelName).ds.ts.sel(lat = slice(latmin, latmax), lon = slice(lonmin, lonmax))\n",
    "                    \n",
    "                    # removing the climatology\n",
    "                    da = RemoveClimatology(da)\n",
    "\n",
    "                    # ------------\n",
    "                    # Mean SSTA difference\n",
    "                    # ------------\n",
    "                    \n",
    "                    # first calculating the average sst over the initial period\n",
    "                    period1 = da.sel(time = slice(periodStart[0], periodStart[1])).mean(dim = 'time')\n",
    "\n",
    "                    # second calculating the average sst over the final period\n",
    "                    period2 = da.sel(time = slice(periodEnd[0], periodEnd[1])).mean(dim = 'time')\n",
    "\n",
    "                    # third plotting the difference\n",
    "                    diff = period2 - period1\n",
    "\n",
    "                    # saving out the cumulative results to calculate the mean\n",
    "                    if i == 0:\n",
    "                        p1Cumulative = period1\n",
    "                        p2Cumulative = period2\n",
    "                        diffCumulative = diff\n",
    "                    else:\n",
    "                        p1Cumulative += period1\n",
    "                        p2Cumulative += period2\n",
    "                        diffCumulative += diff\n",
    "                    \n",
    "                    # ------------\n",
    "                    # SD of SSTA\n",
    "                    # ------------\n",
    "                    SD1 = da.sel(time = slice(periodStart[0], periodStart[1])).std(dim = 'time')\n",
    "                    SD2 = da.sel(time = slice(periodEnd[0], periodEnd[1])).std(dim = 'time')\n",
    "                    SDDiff = da.sel(time = slice(periodStart[0], periodEnd[1])).std(dim = 'time')\n",
    "\n",
    "                    # saving out cumulative results to calculate the mean\n",
    "                    if i == 0:\n",
    "                        p1SDCum = SD1\n",
    "                        p2SDCum = SD2\n",
    "                        SDDiffCum = SDDiff\n",
    "                    else:\n",
    "                        p1SDCum += SD1\n",
    "                        p2SDCum += SD2\n",
    "                        SDDiffCum += SDDiff\n",
    "                    \n",
    "                    i += 1\n",
    "                    print(f'{model}: {i} / {N}')\n",
    "\n",
    "        else:\n",
    "            if i < N:\n",
    "\n",
    "                # opening the dataset\n",
    "                da = ModelInput(item).ds.ts.sel(lat = slice(latmin, latmax), lon = slice(lonmin, lonmax))\n",
    "\n",
    "                # removing the climatology\n",
    "                da = RemoveClimatology(da)\n",
    "\n",
    "                # ------------\n",
    "                # Mean SSTA difference\n",
    "                # ------------\n",
    "\n",
    "                # first calculating the average sst over the initial period\n",
    "                period1 = da.sel(time = slice(periodStart[0], periodStart[1])).mean(dim = 'time')\n",
    "\n",
    "                # second calculating the average sst over the final period\n",
    "                period2 = da.sel(time = slice(periodEnd[0], periodEnd[1])).mean(dim = 'time')\n",
    "\n",
    "                # third plotting the difference\n",
    "                diff = period2 - period1\n",
    "\n",
    "                # saving out the cumulative results to calculate the mean\n",
    "                if i == 0:\n",
    "                    p1Cumulative = period1\n",
    "                    p2Cumulative = period2\n",
    "                    diffCumulative = diff\n",
    "                else:\n",
    "                    p1Cumulative += period1\n",
    "                    p2Cumulative += period2\n",
    "                    diffCumulative += diff\n",
    "\n",
    "                # ------------\n",
    "                # SD of SSTA\n",
    "                # ------------\n",
    "                SD1 = da.sel(time = slice(periodStart[0], periodStart[1])).std(dim = 'time')\n",
    "                SD2 = da.sel(time = slice(periodEnd[0], periodEnd[1])).std(dim = 'time')\n",
    "                SDDiff = da.sel(time = slice(periodStart[0], periodEnd[1])).std(dim = 'time')\n",
    "\n",
    "                # saving out cumulative results to calculate the mean\n",
    "                if i == 0:\n",
    "                    p1SDCum = SD1\n",
    "                    p2SDCum = SD2\n",
    "                    SDDiffCum = SDDiff\n",
    "                else:\n",
    "                    p1SDCum += SD1\n",
    "                    p2SDCum += SD2\n",
    "                    SDDiffCum += SDDiff\n",
    "\n",
    "                i += 1\n",
    "                print(f'{model}: {i} / {N}')\n",
    "\n",
    "    dictPeriod1[model] = p1Cumulative / N\n",
    "    dictPeriod2[model] = p2Cumulative / N\n",
    "    dictDiff[model] = diffCumulative / N\n",
    "    \n",
    "    dictSD1[model] = p1SDCum / N\n",
    "    dictSD2[model] = p2SDCum / N\n",
    "    dictSDFull[model] = SDDiffCum / N"
   ]
  },
  {
   "cell_type": "code",
   "execution_count": 173,
   "metadata": {},
   "outputs": [],
   "source": [
    "# saving out the files from this\n",
    "MakeChangeDir(dirSSTPeriods)\n",
    "\n",
    "for modelName, ds in dictPeriod1.items():\n",
    "    pathName = dirSSTPeriods + '/'+ modelName + '_Period1.nc'\n",
    "    ds.to_netcdf(pathName)\n",
    "\n",
    "for modelName, ds in dictPeriod2.items():\n",
    "    pathName = dirSSTPeriods + '/'+ modelName + '_Period2.nc'\n",
    "    ds.to_netcdf(pathName)\n",
    "    \n",
    "for modelName, ds in dictDiff.items():\n",
    "    pathName = dirSSTPeriods + '/'+ modelName + '_Diff.nc'\n",
    "    ds.to_netcdf(pathName)\n",
    "\n",
    "MakeChangeDir(dirSDPeriods)\n",
    "\n",
    "for modelName, ds in dictSD1.items():\n",
    "    pathName = dirSDPeriods + '/'+ modelName + '_Period1.nc'\n",
    "    ds.to_netcdf(pathName)\n",
    "\n",
    "for modelName, ds in dictSD2.items():\n",
    "    pathName = dirSDPeriods + '/'+ modelName + '_Period2.nc'\n",
    "    ds.to_netcdf(pathName)\n",
    "\n",
    "for modelName, ds in dictSDFull.items():\n",
    "    pathName = dirSDPeriods + '/'+ modelName + '_Full.nc'\n",
    "    ds.to_netcdf(pathName)"
   ]
  }
 ],
 "metadata": {
  "kernelspec": {
   "display_name": "python hb_1129",
   "language": "python",
   "name": "hb_1129"
  },
  "language_info": {
   "codemirror_mode": {
    "name": "ipython",
    "version": 3
   },
   "file_extension": ".py",
   "mimetype": "text/x-python",
   "name": "python",
   "nbconvert_exporter": "python",
   "pygments_lexer": "ipython3",
   "version": "3.8.2"
  }
 },
 "nbformat": 4,
 "nbformat_minor": 2
}
