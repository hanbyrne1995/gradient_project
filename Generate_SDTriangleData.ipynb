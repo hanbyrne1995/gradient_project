{
 "cells": [
  {
   "cell_type": "markdown",
   "metadata": {},
   "source": [
    "# Generating SD files"
   ]
  },
  {
   "cell_type": "markdown",
   "metadata": {},
   "source": [
    "Script that generates the median standard deviation from gradient files that have already been calculated; updating here to first linearly detrend the gradient dataset before calculating"
   ]
  },
  {
   "cell_type": "code",
   "execution_count": 1,
   "metadata": {},
   "outputs": [],
   "source": [
    "%reset -f"
   ]
  },
  {
   "cell_type": "code",
   "execution_count": 12,
   "metadata": {},
   "outputs": [],
   "source": [
    "# importing required libraries\n",
    "import numpy as np\n",
    "import xarray as xr\n",
    "import pandas as pd\n",
    "import os\n",
    "\n",
    "from GradientProjectFunctions import MakeChangeDir\n",
    "from GradTrendClasses import CalcPeriodSD"
   ]
  },
  {
   "cell_type": "code",
   "execution_count": 4,
   "metadata": {},
   "outputs": [],
   "source": [
    "# setting up directories\n",
    "dirGrad = '/home/hbyrne/Research/Gradient_project/gradient_project/Outputs/Gradients_NonParent_All'\n",
    "dirSD = '/home/hbyrne/Research/Gradient_project/gradient_project/Outputs/SD_detrended'"
   ]
  },
  {
   "cell_type": "code",
   "execution_count": 3,
   "metadata": {},
   "outputs": [],
   "source": [
    "models = ['CanESM5', 'MIROC6', 'GISS-E2-1-G', 'MPI-ESM1-2-LR', 'IPSL-CM6A-LR', 'MIROC-ES2L', 'ACCESS-ESM1-5', 'CNRM-CM6-1', 'CESM2', 'CNRM-ESM2-1', 'INM-CM5-0', 'UKESM1-0-LL', 'MPI-ESM1-2-HR']"
   ]
  },
  {
   "cell_type": "code",
   "execution_count": null,
   "metadata": {},
   "outputs": [],
   "source": [
    "for model in models:\n",
    "\n",
    "    # reading in the gradient files\n",
    "    os.chdir(dirGrad)\n",
    "    gradFiles = os.listdir(dirGrad)\n",
    "    grads = [xr.open_dataarray(gradFile) for gradFile in gradFiles if model in gradFile]\n",
    "\n",
    "    # iterate through this list and calculate SD for all periods for each file; save each file\n",
    "    counter = 1\n",
    "    for grad in grads:\n",
    "\n",
    "        # detrending\n",
    "        arrayTime = np.arange(0, len(grad.time))\n",
    "\n",
    "        # fit the line\n",
    "        slope, intercept = np.polyfit(arrayTime, grad, 1)\n",
    "\n",
    "        # detrend\n",
    "        yFit = intercept + slope*arrayTime\n",
    "        gradDetrended = grad - yFit\n",
    "        \n",
    "        # calculate SD for every time period\n",
    "        dfGradSD = CalcPeriodSD(gradDetrended, 20).periodSDDf\n",
    "\n",
    "        # save it out to the directory\n",
    "        MakeChangeDir(dirSD)\n",
    "        fileName = model + '_' + str(counter) + '.csv'\n",
    "        dfGradSD.to_csv(fileName, index = True)\n",
    "\n",
    "        # print progress \n",
    "        print(f'{model}: {counter} / {len(grads)}')\n",
    "        counter += 1"
   ]
  }
 ],
 "metadata": {
  "kernelspec": {
   "display_name": "python hb_1129",
   "language": "python",
   "name": "hb_1129"
  },
  "language_info": {
   "codemirror_mode": {
    "name": "ipython",
    "version": 3
   },
   "file_extension": ".py",
   "mimetype": "text/x-python",
   "name": "python",
   "nbconvert_exporter": "python",
   "pygments_lexer": "ipython3",
   "version": "3.8.2"
  }
 },
 "nbformat": 4,
 "nbformat_minor": 2
}
